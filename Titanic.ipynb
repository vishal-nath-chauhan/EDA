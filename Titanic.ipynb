{
  "nbformat": 4,
  "nbformat_minor": 0,
  "metadata": {
    "colab": {
      "name": "Titanic.ipynb",
      "version": "0.3.2",
      "provenance": [],
      "collapsed_sections": [
        "hmIC0ISiZgqQ",
        "E3YDKvCm8t1f",
        "ETdLEb9EwaXY",
        "agW4Uw3vVq9P",
        "_XqRzdUUbr9m",
        "S0LLiJA4dV9y",
        "WPVqaOl-Qqbp",
        "rKkEdNevW_DM",
        "UwNkTfa1PPCm",
        "jcM4_krSOBaZ",
        "fTnmybOpOlyl",
        "wB8AK4TAn-7k"
      ],
      "toc_visible": true,
      "include_colab_link": true
    },
    "kernelspec": {
      "name": "python3",
      "display_name": "Python 3"
    },
    "accelerator": "GPU"
  },
  "cells": [
    {
      "cell_type": "markdown",
      "metadata": {
        "id": "view-in-github",
        "colab_type": "text"
      },
      "source": [
        "<a href=\"https://colab.research.google.com/github/v4vishalchauhan/Machine_learning/blob/master/Titanic.ipynb\" target=\"_parent\"><img src=\"https://colab.research.google.com/assets/colab-badge.svg\" alt=\"Open In Colab\"/></a>"
      ]
    },
    {
      "cell_type": "code",
      "metadata": {
        "id": "mA5eh2SGxhNN",
        "colab_type": "code",
        "outputId": "24af8ffa-4638-4736-ce9e-2825849869cc",
        "colab": {
          "resources": {
            "http://localhost:8080/nbextensions/google.colab/files.js": {
              "data": "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",
              "ok": true,
              "headers": [
                [
                  "content-type",
                  "application/javascript"
                ]
              ],
              "status": 200,
              "status_text": ""
            }
          },
          "base_uri": "https://localhost:8080/",
          "height": 162
        }
      },
      "source": [
        "!pip install -U -q kaggle\n",
        "!mkdir -p ~/.kaggle\n",
        "\n",
        "from google.colab import files\n",
        "files.upload()\n",
        "!cp kaggle.json ~/.kaggle\n",
        "\n",
        "# !kaggle datasets list\n",
        "\n",
        "\n",
        "!kaggle datasets download -d hesh97/titanicdataset-traincsv"
      ],
      "execution_count": 0,
      "outputs": [
        {
          "output_type": "display_data",
          "data": {
            "text/html": [
              "\n",
              "     <input type=\"file\" id=\"files-8cbe30b5-ce29-4d8d-8689-349814738cf3\" name=\"files[]\" multiple disabled />\n",
              "     <output id=\"result-8cbe30b5-ce29-4d8d-8689-349814738cf3\">\n",
              "      Upload widget is only available when the cell has been executed in the\n",
              "      current browser session. Please rerun this cell to enable.\n",
              "      </output>\n",
              "      <script src=\"/nbextensions/google.colab/files.js\"></script> "
            ],
            "text/plain": [
              "<IPython.core.display.HTML object>"
            ]
          },
          "metadata": {
            "tags": []
          }
        },
        {
          "output_type": "stream",
          "text": [
            "Saving kaggle.json to kaggle.json\n",
            "Warning: Your Kaggle API key is readable by other users on this system! To fix this, you can run 'chmod 600 /root/.kaggle/kaggle.json'\n",
            "Downloading titanicdataset-traincsv.zip to /content\n",
            "  0% 0.00/22.0k [00:00<?, ?B/s]\n",
            "100% 22.0k/22.0k [00:00<00:00, 19.3MB/s]\n"
          ],
          "name": "stdout"
        }
      ]
    },
    {
      "cell_type": "code",
      "metadata": {
        "id": "v81PaSqxxEuC",
        "colab_type": "code",
        "colab": {}
      },
      "source": [
        "%config IPCompleter.greedy=True\n",
        "from sklearn.model_selection import train_test_split,cross_val_score,GridSearchCV\n",
        "from sklearn.linear_model import LinearRegression,LogisticRegression,ElasticNet\n",
        "from sklearn.neighbors import KNeighborsClassifier\n",
        "import numpy as np\n",
        "import pandas as pd\n",
        "import matplotlib.pyplot as plt\n",
        "import seaborn as sns\n",
        "from sklearn.preprocessing import LabelEncoder,OneHotEncoder,StandardScaler\n",
        "import missingno as msno   #for missing values plotting\n",
        "from sklearn.preprocessing import Imputer\n",
        "from sklearn.metrics import accuracy_score,r2_score\n",
        "import warnings\n",
        "from sklearn.naive_bayes import BernoulliNB,GaussianNB\n",
        "from sklearn.svm import SVC\n",
        "from sklearn.tree import DecisionTreeClassifier"
      ],
      "execution_count": 0,
      "outputs": []
    },
    {
      "cell_type": "code",
      "metadata": {
        "id": "9cmveSCqxnTe",
        "colab_type": "code",
        "colab": {}
      },
      "source": [
        "from zipfile import ZipFile\n",
        "zip=ZipFile('titanicdataset-traincsv.zip','r')\n",
        "zip.extractall()\n",
        "    "
      ],
      "execution_count": 0,
      "outputs": []
    },
    {
      "cell_type": "code",
      "metadata": {
        "id": "mVCULyiwhNJV",
        "colab_type": "code",
        "outputId": "9029c161-daef-4c29-fe94-fdc3e200a9da",
        "colab": {
          "base_uri": "https://localhost:8080/",
          "height": 71
        }
      },
      "source": [
        "data=pd.read_csv('train.csv')\n",
        "# print(data.shape)\n",
        "data2=data\n",
        "    \n",
        "\n",
        "# msno.matrix(data)\n",
        "data2=data2.drop('Cabin',axis=1)   #too many missing values\n",
        "data2=data2.drop('Name',axis=1)   #right now not handling the text\n",
        "data2=data2.drop('Ticket',axis=1) #no text handling now\n",
        "data2.Embarked.fillna('S',inplace=True)  # frequency of S is highest \n",
        "\n",
        "data2.Age.fillna(np.mean(data2.Age),inplace=True) #handling outliers using mean because median is nan\n",
        "\n",
        "\n",
        "lencoder=LabelEncoder()  #for sex column\n",
        "oencoder=OneHotEncoder() #for Embarked column\n",
        "data2.Sex=lencoder.fit_transform(data2.Sex)\n",
        "Embarked=np.array(data2.Embarked).reshape(len(data2.Embarked),1)\n",
        "# print(Embarked.shape)\n",
        "Embarked=lencoder.fit_transform(Embarked)\n",
        "data2=data2.drop('Embarked',axis=1)\n",
        "\n",
        "std=StandardScaler()\n",
        "\n",
        "data2['Embarked']=Embarked\n",
        "\n",
        "y=data2.Survived\n",
        "y=np.array(y).reshape(len(y),1)   \n",
        "data2=data2.drop('Survived',axis=1)\n",
        "# msno.matrix(data)\n",
        "x=data2\n",
        "x=std.fit_transform(x)   #without standardization out accuracy will get decreased\n",
        "# bt=x.corr()               #features are not correlated to each other\n",
        "# print(bt)\n",
        "# sns.heatmap(bt,annot=True)\n",
        "# print(data.head(3))\n",
        "# msno.matrix(data)\n",
        "x_train,x_test,y_train,y_test=train_test_split(x,y,test_size=0.3,random_state=0)\n",
        "# print(data.head(3))\n",
        "# msno.matrix(data)\n"
      ],
      "execution_count": 0,
      "outputs": [
        {
          "output_type": "stream",
          "text": [
            "/usr/local/lib/python3.6/dist-packages/sklearn/preprocessing/label.py:235: DataConversionWarning: A column-vector y was passed when a 1d array was expected. Please change the shape of y to (n_samples, ), for example using ravel().\n",
            "  y = column_or_1d(y, warn=True)\n"
          ],
          "name": "stderr"
        }
      ]
    },
    {
      "cell_type": "markdown",
      "metadata": {
        "id": "hmIC0ISiZgqQ",
        "colab_type": "text"
      },
      "source": [
        "# **EDA**"
      ]
    },
    {
      "cell_type": "markdown",
      "metadata": {
        "id": "6bKR4VrPwSNn",
        "colab_type": "text"
      },
      "source": [
        "<!-- # **EDA** -->"
      ]
    },
    {
      "cell_type": "code",
      "metadata": {
        "id": "3XRPk9K_tZiO",
        "colab_type": "code",
        "outputId": "4bb7cb18-462d-4bf9-bbdf-f9efd700fd75",
        "colab": {
          "base_uri": "https://localhost:8080/",
          "height": 320
        }
      },
      "source": [
        "sns.countplot(x='Survived',data=data)\n",
        "print(\"{}% People survived\".format(((data.Survived==1).sum()/len(data.Survived))*100))\n"
      ],
      "execution_count": 0,
      "outputs": [
        {
          "output_type": "stream",
          "text": [
            "38.38383838383838% People survived\n"
          ],
          "name": "stdout"
        },
        {
          "output_type": "display_data",
          "data": {
            "image/png": "[encoded data removed]",
            "text/plain": [
              "<Figure size 432x288 with 1 Axes>"
            ]
          },
          "metadata": {
            "tags": []
          }
        }
      ]
    },
    {
      "cell_type": "code",
      "metadata": {
        "id": "AQSiTdtHggqw",
        "colab_type": "code",
        "outputId": "e15e1fcd-bfff-4384-88a0-08f161e4e059",
        "colab": {
          "base_uri": "https://localhost:8080/",
          "height": 894
        }
      },
      "source": [
        "\n",
        "sns.factorplot(x='Sex',y='Survived',data=data,kind='bar')\n",
        "\n",
        "sns.factorplot(x='Sex',y='Survived',data=data,kind='point')\n",
        "print(pd.crosstab(data.Survived,data.Sex,margins=True))"
      ],
      "execution_count": 0,
      "outputs": [
        {
          "output_type": "stream",
          "text": [
            "/usr/local/lib/python3.6/dist-packages/seaborn/categorical.py:3666: UserWarning: The `factorplot` function has been renamed to `catplot`. The original name will be removed in a future release. Please update your code. Note that the default `kind` in `factorplot` (`'point'`) has changed `'strip'` in `catplot`.\n",
            "  warnings.warn(msg)\n",
            "/usr/local/lib/python3.6/dist-packages/seaborn/categorical.py:3666: UserWarning: The `factorplot` function has been renamed to `catplot`. The original name will be removed in a future release. Please update your code. Note that the default `kind` in `factorplot` (`'point'`) has changed `'strip'` in `catplot`.\n",
            "  warnings.warn(msg)\n"
          ],
          "name": "stderr"
        },
        {
          "output_type": "stream",
          "text": [
            "Sex       female  male  All\n",
            "Survived                   \n",
            "0             81   468  549\n",
            "1            233   109  342\n",
            "All          314   577  891\n"
          ],
          "name": "stdout"
        },
        {
          "output_type": "display_data",
          "data": {
            "image/png": "[encoded data removed]",
            "text/plain": [
              "<Figure size 360x360 with 1 Axes>"
            ]
          },
          "metadata": {
            "tags": []
          }
        },
        {
          "output_type": "display_data",
          "data": {
            "image/png": "[encoded data removed]",
            "text/plain": [
              "<Figure size 360x360 with 1 Axes>"
            ]
          },
          "metadata": {
            "tags": []
          }
        }
      ]
    },
    {
      "cell_type": "code",
      "metadata": {
        "id": "KGJdw4rrj-KZ",
        "colab_type": "code",
        "outputId": "c49ff2e0-e1cb-46cd-def5-bfd12f5f1b62",
        "colab": {
          "base_uri": "https://localhost:8080/",
          "height": 928
        }
      },
      "source": [
        "print(pd.crosstab(data.Embarked,data.Survived,margins=True))\n",
        "sns.factorplot(x='Embarked',y='Survived',data=data,kind='bar')\n",
        "sns.factorplot(x='Embarked',y='Survived',data=data,kind='point')\n"
      ],
      "execution_count": 0,
      "outputs": [
        {
          "output_type": "stream",
          "text": [
            "Survived    0    1  All\n",
            "Embarked               \n",
            "C          75   93  168\n",
            "Q          47   30   77\n",
            "S         427  217  644\n",
            "All       549  340  889\n"
          ],
          "name": "stdout"
        },
        {
          "output_type": "stream",
          "text": [
            "/usr/local/lib/python3.6/dist-packages/seaborn/categorical.py:3666: UserWarning: The `factorplot` function has been renamed to `catplot`. The original name will be removed in a future release. Please update your code. Note that the default `kind` in `factorplot` (`'point'`) has changed `'strip'` in `catplot`.\n",
            "  warnings.warn(msg)\n",
            "/usr/local/lib/python3.6/dist-packages/seaborn/categorical.py:3666: UserWarning: The `factorplot` function has been renamed to `catplot`. The original name will be removed in a future release. Please update your code. Note that the default `kind` in `factorplot` (`'point'`) has changed `'strip'` in `catplot`.\n",
            "  warnings.warn(msg)\n"
          ],
          "name": "stderr"
        },
        {
          "output_type": "execute_result",
          "data": {
            "text/plain": [
              "<seaborn.axisgrid.FacetGrid at 0x7f1226a3d5c0>"
            ]
          },
          "metadata": {
            "tags": []
          },
          "execution_count": 7
        },
        {
          "output_type": "display_data",
          "data": {
            "image/png": "[encoded data removed]",
            "text/plain": [
              "<Figure size 360x360 with 1 Axes>"
            ]
          },
          "metadata": {
            "tags": []
          }
        },
        {
          "output_type": "display_data",
          "data": {
            "image/png": "[encoded data removed]",
            "text/plain": [
              "<Figure size 360x360 with 1 Axes>"
            ]
          },
          "metadata": {
            "tags": []
          }
        }
      ]
    },
    {
      "cell_type": "code",
      "metadata": {
        "id": "W9u5iEZBkPd6",
        "colab_type": "code",
        "outputId": "52e983d0-2c5a-4254-f432-1acaf77eb76b",
        "colab": {
          "base_uri": "https://localhost:8080/",
          "height": 440
        }
      },
      "source": [
        "\n",
        "sns.factorplot(x='Ticket',y='Survived',data=data,kind='box')"
      ],
      "execution_count": 0,
      "outputs": [
        {
          "output_type": "stream",
          "text": [
            "/usr/local/lib/python3.6/dist-packages/seaborn/categorical.py:3666: UserWarning: The `factorplot` function has been renamed to `catplot`. The original name will be removed in a future release. Please update your code. Note that the default `kind` in `factorplot` (`'point'`) has changed `'strip'` in `catplot`.\n",
            "  warnings.warn(msg)\n"
          ],
          "name": "stderr"
        },
        {
          "output_type": "execute_result",
          "data": {
            "text/plain": [
              "<seaborn.axisgrid.FacetGrid at 0x7f123881ecc0>"
            ]
          },
          "metadata": {
            "tags": []
          },
          "execution_count": 8
        },
        {
          "output_type": "display_data",
          "data": {
            "image/png": "[encoded data removed]",
            "text/plain": [
              "<Figure size 360x360 with 1 Axes>"
            ]
          },
          "metadata": {
            "tags": []
          }
        }
      ]
    },
    {
      "cell_type": "code",
      "metadata": {
        "id": "3kVyRkoMdNMD",
        "colab_type": "code",
        "outputId": "53684948-3ef3-4a31-a62c-b11686a9ed40",
        "colab": {
          "base_uri": "https://localhost:8080/",
          "height": 309
        }
      },
      "source": [
        "kids=[data[data['Age']<=20]['Age']]    #0 -20\n",
        "youth=[i for i in data.Age if i<60 and i>20]   # 20-60\n",
        "elder=[data[data['Age']>=60]['Age']]   #60+\n",
        "data2=data.copy()\n",
        "# data2['kids']=kids\n",
        "data2.Age=data2.Age.replace(kids,'kids')\n",
        "data2.Age=data2.Age.replace(youth,'youth')\n",
        "data2.Age=data2.Age.replace(elder,'elder')\n",
        "# data2=data2.assign(kids)\n",
        "\n",
        "print(pd.crosstab([data2.Survived,data2.Sex],data2.Age,margins=True))\n",
        "print(\"#\"*150)\n",
        "print(pd.crosstab([data2.Survived,data2.Sex],[data2.Pclass,data2.Age],margins=True))"
      ],
      "execution_count": 0,
      "outputs": [
        {
          "output_type": "stream",
          "text": [
            "Age              elder  kids  youth  All\n",
            "Survived Sex                            \n",
            "0        female      0    24     40   64\n",
            "         male       19    73    268  360\n",
            "1        female      4    53    140  197\n",
            "         male        3    29     61   93\n",
            "All                 26   179    509  714\n",
            "######################################################################################################################################################\n",
            "Pclass              1                2                3             All\n",
            "Age             elder kids youth elder kids youth elder kids youth     \n",
            "Survived Sex                                                           \n",
            "0        female     0    1     2     0    0     6     0   23    32   64\n",
            "         male      12    3    46     3    9    72     4   61   150  360\n",
            "1        female     3   13    66     0   16    52     1   24    22  197\n",
            "         male       2    4    34     1   10     4     0   15    23   93\n",
            "All                17   21   148     4   35   134     5  123   227  714\n"
          ],
          "name": "stdout"
        }
      ]
    },
    {
      "cell_type": "code",
      "metadata": {
        "id": "XKQLbkL3nPMU",
        "colab_type": "code",
        "outputId": "ebf662e7-4901-4370-e682-41a00c00eecd",
        "colab": {
          "base_uri": "https://localhost:8080/",
          "height": 826
        }
      },
      "source": [
        "bins=np.arange(0,100,5)\n",
        "sns.FacetGrid(data,hue='Survived',size=5)\\\n",
        "   .map(plt.hist,'Age',bins=bins)\\\n",
        "   .add_legend()\n",
        "bins2=[0,1]\n",
        "sns.FacetGrid(data,col='Survived',hue='Sex',size=5)\\\n",
        "   .map(plt.hist,'Age',bins=bins)\\\n",
        "   .add_legend()"
      ],
      "execution_count": 0,
      "outputs": [
        {
          "output_type": "stream",
          "text": [
            "/usr/local/lib/python3.6/dist-packages/seaborn/axisgrid.py:230: UserWarning: The `size` paramter has been renamed to `height`; please update your code.\n",
            "  warnings.warn(msg, UserWarning)\n",
            "/usr/local/lib/python3.6/dist-packages/seaborn/axisgrid.py:230: UserWarning: The `size` paramter has been renamed to `height`; please update your code.\n",
            "  warnings.warn(msg, UserWarning)\n"
          ],
          "name": "stderr"
        },
        {
          "output_type": "execute_result",
          "data": {
            "text/plain": [
              "<seaborn.axisgrid.FacetGrid at 0x7f1223710ac8>"
            ]
          },
          "metadata": {
            "tags": []
          },
          "execution_count": 10
        },
        {
          "output_type": "display_data",
          "data": {
            "image/png": "[encoded data removed]",
            "text/plain": [
              "<Figure size 411.875x360 with 1 Axes>"
            ]
          },
          "metadata": {
            "tags": []
          }
        },
        {
          "output_type": "display_data",
          "data": {
            "image/png": "[encoded data removed]",
            "text/plain": [
              "<Figure size 790.5x360 with 2 Axes>"
            ]
          },
          "metadata": {
            "tags": []
          }
        }
      ]
    },
    {
      "cell_type": "code",
      "metadata": {
        "id": "pXR7H_CdqW5k",
        "colab_type": "code",
        "outputId": "b3b40109-e82c-436e-d079-ce03e19c092c",
        "colab": {
          "base_uri": "https://localhost:8080/",
          "height": 593
        }
      },
      "source": [
        "print(pd.crosstab(data.SibSp,data.Survived))\n",
        "sns.factorplot(x='SibSp',y='Survived',data=data,kind='bar')"
      ],
      "execution_count": 0,
      "outputs": [
        {
          "output_type": "stream",
          "text": [
            "Survived    0    1\n",
            "SibSp             \n",
            "0         398  210\n",
            "1          97  112\n",
            "2          15   13\n",
            "3          12    4\n",
            "4          15    3\n",
            "5           5    0\n",
            "8           7    0\n"
          ],
          "name": "stdout"
        },
        {
          "output_type": "stream",
          "text": [
            "/usr/local/lib/python3.6/dist-packages/seaborn/categorical.py:3666: UserWarning: The `factorplot` function has been renamed to `catplot`. The original name will be removed in a future release. Please update your code. Note that the default `kind` in `factorplot` (`'point'`) has changed `'strip'` in `catplot`.\n",
            "  warnings.warn(msg)\n"
          ],
          "name": "stderr"
        },
        {
          "output_type": "execute_result",
          "data": {
            "text/plain": [
              "<seaborn.axisgrid.FacetGrid at 0x7f12235a0550>"
            ]
          },
          "metadata": {
            "tags": []
          },
          "execution_count": 11
        },
        {
          "output_type": "display_data",
          "data": {
            "image/png": "[encoded data removed]",
            "text/plain": [
              "<Figure size 360x360 with 1 Axes>"
            ]
          },
          "metadata": {
            "tags": []
          }
        }
      ]
    },
    {
      "cell_type": "code",
      "metadata": {
        "id": "sApEdd7BrVLx",
        "colab_type": "code",
        "outputId": "0e786f2e-530c-4481-c827-98c779d332eb",
        "colab": {
          "base_uri": "https://localhost:8080/",
          "height": 491
        }
      },
      "source": [
        "sns.factorplot(x='Parch',y='Survived',data=data,kind='bar')\n",
        "print(pd.crosstab(data.Survived,data.Parch))"
      ],
      "execution_count": 0,
      "outputs": [
        {
          "output_type": "stream",
          "text": [
            "/usr/local/lib/python3.6/dist-packages/seaborn/categorical.py:3666: UserWarning: The `factorplot` function has been renamed to `catplot`. The original name will be removed in a future release. Please update your code. Note that the default `kind` in `factorplot` (`'point'`) has changed `'strip'` in `catplot`.\n",
            "  warnings.warn(msg)\n"
          ],
          "name": "stderr"
        },
        {
          "output_type": "stream",
          "text": [
            "Parch       0   1   2  3  4  5  6\n",
            "Survived                         \n",
            "0         445  53  40  2  4  4  1\n",
            "1         233  65  40  3  0  1  0\n"
          ],
          "name": "stdout"
        },
        {
          "output_type": "display_data",
          "data": {
            "image/png": "[encoded data removed]",
            "text/plain": [
              "<Figure size 360x360 with 1 Axes>"
            ]
          },
          "metadata": {
            "tags": []
          }
        }
      ]
    },
    {
      "cell_type": "code",
      "metadata": {
        "id": "XTPApD_ylSJn",
        "colab_type": "code",
        "outputId": "3cd939de-5134-49f0-e18e-e7df5fd386fc",
        "colab": {
          "base_uri": "https://localhost:8080/",
          "height": 911
        }
      },
      "source": [
        "print(pd.crosstab(data.Survived,data.Pclass,margins=True))\n",
        "sns.factorplot(x='Pclass',y='Survived',data=data,kind='bar')\n",
        "sns.FacetGrid(data2,hue='Survived',size=5)\\\n",
        "   .map(sns.distplot,'Pclass')\\\n",
        "   .add_legend()"
      ],
      "execution_count": 0,
      "outputs": [
        {
          "output_type": "stream",
          "text": [
            "Pclass      1    2    3  All\n",
            "Survived                    \n",
            "0          80   97  372  549\n",
            "1         136   87  119  342\n",
            "All       216  184  491  891\n"
          ],
          "name": "stdout"
        },
        {
          "output_type": "stream",
          "text": [
            "/usr/local/lib/python3.6/dist-packages/seaborn/categorical.py:3666: UserWarning: The `factorplot` function has been renamed to `catplot`. The original name will be removed in a future release. Please update your code. Note that the default `kind` in `factorplot` (`'point'`) has changed `'strip'` in `catplot`.\n",
            "  warnings.warn(msg)\n",
            "/usr/local/lib/python3.6/dist-packages/seaborn/axisgrid.py:230: UserWarning: The `size` paramter has been renamed to `height`; please update your code.\n",
            "  warnings.warn(msg, UserWarning)\n"
          ],
          "name": "stderr"
        },
        {
          "output_type": "execute_result",
          "data": {
            "text/plain": [
              "<seaborn.axisgrid.FacetGrid at 0x7f12269b68d0>"
            ]
          },
          "metadata": {
            "tags": []
          },
          "execution_count": 13
        },
        {
          "output_type": "display_data",
          "data": {
            "image/png": "[encoded data removed]",
            "text/plain": [
              "<Figure size 360x360 with 1 Axes>"
            ]
          },
          "metadata": {
            "tags": []
          }
        },
        {
          "output_type": "display_data",
          "data": {
            "image/png": "[encoded data removed]",
            "text/plain": [
              "<Figure size 411.875x360 with 1 Axes>"
            ]
          },
          "metadata": {
            "tags": []
          }
        }
      ]
    },
    {
      "cell_type": "code",
      "metadata": {
        "id": "VJnR0vFprt2U",
        "colab_type": "code",
        "outputId": "47111e1d-48e3-46e2-b795-9721ed6be293",
        "colab": {
          "base_uri": "https://localhost:8080/",
          "height": 898
        }
      },
      "source": [
        "# sns.factorplot(x='Fare',y='Survived',data=data,kind='point')\n",
        "# print(pd.crosstab(data.Fare,data.Survived))\n",
        "sns.FacetGrid(data,hue='Survived',size=5)\\\n",
        "   .map(sns.distplot,'Fare')\\\n",
        "   .add_legend()\n",
        "bins3=np.arange(0,150,5)\n",
        "sns.FacetGrid(data,col='Survived',hue='Sex',size=6)\\\n",
        "   .map(plt.hist,'Fare',bins=bins3)\\\n",
        "   .add_legend()"
      ],
      "execution_count": 0,
      "outputs": [
        {
          "output_type": "stream",
          "text": [
            "/usr/local/lib/python3.6/dist-packages/seaborn/axisgrid.py:230: UserWarning: The `size` paramter has been renamed to `height`; please update your code.\n",
            "  warnings.warn(msg, UserWarning)\n",
            "/usr/local/lib/python3.6/dist-packages/seaborn/axisgrid.py:230: UserWarning: The `size` paramter has been renamed to `height`; please update your code.\n",
            "  warnings.warn(msg, UserWarning)\n"
          ],
          "name": "stderr"
        },
        {
          "output_type": "execute_result",
          "data": {
            "text/plain": [
              "<seaborn.axisgrid.FacetGrid at 0x7f1223436d30>"
            ]
          },
          "metadata": {
            "tags": []
          },
          "execution_count": 14
        },
        {
          "output_type": "display_data",
          "data": {
            "image/png": "[encoded data removed]",
            "text/plain": [
              "<Figure size 411.875x360 with 1 Axes>"
            ]
          },
          "metadata": {
            "tags": []
          }
        },
        {
          "output_type": "display_data",
          "data": {
            "image/png": "[encoded data removed]",
            "text/plain": [
              "<Figure size 934.5x432 with 2 Axes>"
            ]
          },
          "metadata": {
            "tags": []
          }
        }
      ]
    },
    {
      "cell_type": "code",
      "metadata": {
        "id": "XJwCYlRChZEY",
        "colab_type": "code",
        "outputId": "576e6797-ea35-433c-9287-c3fefec1a73f",
        "colab": {
          "base_uri": "https://localhost:8080/",
          "height": 953
        }
      },
      "source": [
        "# print(data.Fare.describe())\n",
        "print(pd.crosstab([data.Survived,data.Sex],data.Pclass,margins=True))\n",
        "\n",
        "# plt.scatter(data=data,x='Age',y='Survived')\n",
        "# sns.boxplot(data=data)\n",
        "# sns.distplot(data.Age)\n",
        "# plt.figure(1,figsize=(20,8))\n",
        "# plt.xlim=(0,0)\n",
        "# sns.factorplot(x='Fare',y='Survived',data=data,kind='point')\n",
        "# bins=np.arange(0,50,2)\n",
        "sns.FacetGrid(data,hue='Survived',row='Sex',size=5)\\\n",
        "   .map(sns.countplot,'Pclass')\\\n",
        "   .add_legend()"
      ],
      "execution_count": 0,
      "outputs": [
        {
          "output_type": "stream",
          "text": [
            "Pclass             1    2    3  All\n",
            "Survived Sex                       \n",
            "0        female    3    6   72   81\n",
            "         male     77   91  300  468\n",
            "1        female   91   70   72  233\n",
            "         male     45   17   47  109\n",
            "All              216  184  491  891\n"
          ],
          "name": "stdout"
        },
        {
          "output_type": "stream",
          "text": [
            "/usr/local/lib/python3.6/dist-packages/seaborn/axisgrid.py:230: UserWarning: The `size` paramter has been renamed to `height`; please update your code.\n",
            "  warnings.warn(msg, UserWarning)\n",
            "/usr/local/lib/python3.6/dist-packages/seaborn/axisgrid.py:715: UserWarning: Using the countplot function without specifying `order` is likely to produce an incorrect plot.\n",
            "  warnings.warn(warning)\n"
          ],
          "name": "stderr"
        },
        {
          "output_type": "execute_result",
          "data": {
            "text/plain": [
              "<seaborn.axisgrid.FacetGrid at 0x7f12231d72b0>"
            ]
          },
          "metadata": {
            "tags": []
          },
          "execution_count": 15
        },
        {
          "output_type": "display_data",
          "data": {
            "image/png": "[encoded data removed]",
            "text/plain": [
              "<Figure size 411.875x720 with 2 Axes>"
            ]
          },
          "metadata": {
            "tags": []
          }
        }
      ]
    },
    {
      "cell_type": "code",
      "metadata": {
        "id": "bv0Mv9-PxAvC",
        "colab_type": "code",
        "outputId": "c516efc4-3c4e-4ede-b372-bcfd8b3069e4",
        "colab": {
          "base_uri": "https://localhost:8080/",
          "height": 190
        }
      },
      "source": [
        "print(pd.crosstab([data.Survived,data.Sex],data.Age,margins=True))"
      ],
      "execution_count": 0,
      "outputs": [
        {
          "output_type": "stream",
          "text": [
            "Age              0.42  0.67  0.75  0.83  0.92  ...  70.5  71.0  74.0  80.0  All\n",
            "Survived Sex                                   ...                             \n",
            "0        female     0     0     0     0     0  ...     0     0     0     0   64\n",
            "         male       0     0     0     0     0  ...     1     2     1     0  360\n",
            "1        female     0     0     2     0     0  ...     0     0     0     0  197\n",
            "         male       1     1     0     2     1  ...     0     0     0     1   93\n",
            "All                 1     1     2     2     1  ...     1     2     1     1  714\n",
            "\n",
            "[5 rows x 89 columns]\n"
          ],
          "name": "stdout"
        }
      ]
    },
    {
      "cell_type": "code",
      "metadata": {
        "id": "gxxtDQrA3FY1",
        "colab_type": "code",
        "outputId": "28add290-518b-492a-c864-7114c9c5c301",
        "colab": {
          "base_uri": "https://localhost:8080/",
          "height": 479
        }
      },
      "source": [
        "data2['family']=data2.Parch+data2.SibSp\n",
        "print(pd.crosstab([data2.Survived,data2.Sex],data2.family,margins=True))\n",
        "print(pd.crosstab([data2.Survived,data2.family],data2.Pclass,margins=True))"
      ],
      "execution_count": 0,
      "outputs": [
        {
          "output_type": "stream",
          "text": [
            "family             0    1    2   3   4   5   6  7  10  All\n",
            "Survived Sex                                              \n",
            "0        female   27   16   11   3   9   5   5  2   3   81\n",
            "         male    347   56   32   5   3  14   3  4   4  468\n",
            "1        female   99   71   38  16   3   3   3  0   0  233\n",
            "         male     64   18   21   5   0   0   1  0   0  109\n",
            "All              537  161  102  29  15  22  12  6   7  891\n",
            "Pclass             1    2    3  All\n",
            "Survived family                    \n",
            "0        0        51   68  255  374\n",
            "         1        19   16   37   72\n",
            "         2         6   10   27   43\n",
            "         3         2    3    3    8\n",
            "         4         0    0   12   12\n",
            "         5         2    0   17   19\n",
            "         6         0    0    8    8\n",
            "         7         0    0    6    6\n",
            "         10        0    0    7    7\n",
            "1        0        58   36   69  163\n",
            "         1        51   18   20   89\n",
            "         2        18   21   20   59\n",
            "         3         5   10    6   21\n",
            "         4         2    1    0    3\n",
            "         5         2    1    0    3\n",
            "         6         0    0    4    4\n",
            "All              216  184  491  891\n"
          ],
          "name": "stdout"
        }
      ]
    },
    {
      "cell_type": "code",
      "metadata": {
        "id": "VbNWdIqae1VL",
        "colab_type": "code",
        "outputId": "556b61f4-6375-4a13-9759-d7cf7060aed3",
        "colab": {
          "base_uri": "https://localhost:8080/",
          "height": 156
        }
      },
      "source": [
        "print(pd.crosstab([data2.Survived,data2.Sex],data2.Embarked,margins=True))"
      ],
      "execution_count": 0,
      "outputs": [
        {
          "output_type": "stream",
          "text": [
            "Embarked           C   Q    S  All\n",
            "Survived Sex                      \n",
            "0        female    9   9   63   81\n",
            "         male     66  38  364  468\n",
            "1        female   64  27  140  231\n",
            "         male     29   3   77  109\n",
            "All              168  77  644  889\n"
          ],
          "name": "stdout"
        }
      ]
    },
    {
      "cell_type": "code",
      "metadata": {
        "id": "4wjREPRtWeuY",
        "colab_type": "code",
        "colab": {}
      },
      "source": [
        ""
      ],
      "execution_count": 0,
      "outputs": []
    },
    {
      "cell_type": "markdown",
      "metadata": {
        "id": "E3YDKvCm8t1f",
        "colab_type": "text"
      },
      "source": [
        "# **EDA Conclusion** \n",
        "\n",
        "\n",
        "\n",
        "\n",
        "\n",
        "\n",
        "\n",
        "\n",
        "\n",
        "\n"
      ]
    },
    {
      "cell_type": "markdown",
      "metadata": {
        "id": "UskWFdrVeN9H",
        "colab_type": "text"
      },
      "source": [
        "\n",
        "**` Single Variate Analysis `**\n",
        "*   Females survived more than male\n",
        "*   Embarked from C has max. survival rate C>Q>S\n",
        "*   We will not consider Cabin as lots of values are missing\n",
        "*   Ticket is not related to survival\n",
        "*   People from class 1 survived max 1>2>3\n",
        "*   Most people's age is b/w 20-40,survived peiople's age is between 20-55 appox\n",
        "*   People who had 1 sibling survived most 1>2>0>3>4\n",
        "*   Parch 3 has max survival rate 3>1>2>0>5\n",
        "*   People survived paid fare between 10 -80 approx,people not survived paid mostly 8-15 fare price \n",
        "\n",
        "\n",
        "---\n",
        "\n",
        "**`Multiple Variate Analysis`**\n",
        "*   In class 1 almost every female survived,mostly males died in class 3\n",
        "*   Youth females survived most,no elder female died\n",
        "*   Mostly male elder,kids died in class 1\n",
        "*   Females which have 0 family member survived mostly,male which have 0 family member died most.\n",
        "*  Families in class 1 survived mostly\n",
        "*  People Embarked from S survived mostly\n"
      ]
    },
    {
      "cell_type": "markdown",
      "metadata": {
        "id": "ETdLEb9EwaXY",
        "colab_type": "text"
      },
      "source": [
        "# KNN"
      ]
    },
    {
      "cell_type": "code",
      "metadata": {
        "id": "20PRTefbvA82",
        "colab_type": "code",
        "outputId": "fd88f318-ac53-4b59-f440-8476f7f2f306",
        "colab": {
          "base_uri": "https://localhost:8080/",
          "height": 320
        }
      },
      "source": [
        "warnings.filterwarnings('ignore')\n",
        "scores=[]\n",
        "kk=[]\n",
        "for k in range(1,40):\n",
        "    knn=KNeighborsClassifier(n_neighbors=k)\n",
        "#     knn.fit(x_train,y_train)\n",
        "    scores.append(np.mean(cross_val_score(knn,x_train,y_train,cv=15,scoring='accuracy')))\n",
        "    kk.append(k)\n",
        "\n",
        "plt.xlabel=('K')\n",
        "plt.ylabel=('Score')\n",
        "plt.plot(kk,scores)    \n",
        "print(\" Maximum Accuracy on train data with cross validation\",np.amax(scores)*100)\n",
        "knn=KNeighborsClassifier(n_neighbors=8)\n",
        "knn.fit(x_train,y_train)\n",
        "y_pred=knn.predict(x_test)\n",
        "print(\"Accuracy on test dataset with k determined by train dataset\",accuracy_score(y_pred,y_test)*100)\n",
        "#KNN accuracy 81.71% on test dataset\n",
        "\n"
      ],
      "execution_count": 0,
      "outputs": [
        {
          "output_type": "stream",
          "text": [
            " Maximum Accuracy on train data with cross validation 81.86316613996706\n",
            "Accuracy on test dataset with k deteremined by train dataset 81.71641791044776\n",
            "R2 score 0.21833333333333327\n"
          ],
          "name": "stdout"
        },
        {
          "output_type": "display_data",
          "data": {
            "image/png": "[encoded data removed]",
            "text/plain": [
              "<Figure size 432x288 with 1 Axes>"
            ]
          },
          "metadata": {
            "tags": []
          }
        }
      ]
    },
    {
      "cell_type": "markdown",
      "metadata": {
        "id": "agW4Uw3vVq9P",
        "colab_type": "text"
      },
      "source": [
        "# **Naive Bayes**"
      ]
    },
    {
      "cell_type": "code",
      "metadata": {
        "id": "llGcFtcPVzzu",
        "colab_type": "code",
        "outputId": "5a108cdf-a7f8-48cb-9b56-b9068d45a414",
        "colab": {
          "base_uri": "https://localhost:8080/",
          "height": 51
        }
      },
      "source": [
        "# alph=[]\n",
        "# sco=[]\n",
        "\n",
        "bb=GaussianNB()\n",
        "bb.fit(x_train,y_train)\n",
        "by_pred=bb.predict(x_test)\n",
        "print(accuracy_score(by_pred,y_test))\n",
        "\n",
        "# Bernoulli will not work here as it is designed for bool features\n",
        "# 78.73% accuracy on test set\n"
      ],
      "execution_count": 0,
      "outputs": [
        {
          "output_type": "stream",
          "text": [
            "0.7873134328358209\n",
            "R2 score 0.09071428571428564\n"
          ],
          "name": "stdout"
        }
      ]
    },
    {
      "cell_type": "markdown",
      "metadata": {
        "id": "_XqRzdUUbr9m",
        "colab_type": "text"
      },
      "source": [
        "# Logistic **Regression**"
      ]
    },
    {
      "cell_type": "code",
      "metadata": {
        "id": "vsc_CyQHbygt",
        "colab_type": "code",
        "outputId": "4d388812-93ba-468c-9717-6ded9ce275cc",
        "colab": {
          "base_uri": "https://localhost:8080/",
          "height": 136
        }
      },
      "source": [
        "parameter_lr={'penalty':('l1','l2'),'C':[0.29,0.25,0.21,0.2,0.1,0.01,0.001,0.0001,0.00001,0.000001,0.0000001]}\n",
        "log_reg=LogisticRegression()\n",
        "lr_gs=GridSearchCV(log_reg,parameter_lr,cv=10)\n",
        "lr_gs.fit(x_train,y_train)\n",
        "# print(lr_gs.cv_results_)\n",
        "print(lr_gs.best_estimator_)\n",
        "print(lr_gs.best_score_)\n",
        "reg=LogisticRegression(penalty='l1',C=0.2)\n",
        "reg.fit(x_train,y_train)\n",
        "reg_pred=reg.predict(x_test)\n",
        "\n",
        "# print(\"R2 score\",r2_score(y_test,reg_pred))\n",
        "print(\"Accuracy score\",accuracy_score(y_test,reg_pred))\n",
        "#l1->79.850 C=0.2\n",
        "#l2->79.477 C=0.1\n"
      ],
      "execution_count": 0,
      "outputs": [
        {
          "output_type": "stream",
          "text": [
            "LogisticRegression(C=0.1, class_weight=None, dual=False, fit_intercept=True,\n",
            "                   intercept_scaling=1, l1_ratio=None, max_iter=100,\n",
            "                   multi_class='warn', n_jobs=None, penalty='l2',\n",
            "                   random_state=None, solver='warn', tol=0.0001, verbose=0,\n",
            "                   warm_start=False)\n",
            "0.8025682182985554\n",
            "Accuracy score 0.7985074626865671\n"
          ],
          "name": "stdout"
        }
      ]
    },
    {
      "cell_type": "markdown",
      "metadata": {
        "id": "S0LLiJA4dV9y",
        "colab_type": "text"
      },
      "source": [
        "# **SVM**"
      ]
    },
    {
      "cell_type": "code",
      "metadata": {
        "id": "t8MTDEPtdZ90",
        "colab_type": "code",
        "outputId": "75cce37b-7197-412e-ae94-cfb97753069e",
        "colab": {
          "base_uri": "https://localhost:8080/",
          "height": 119
        }
      },
      "source": [
        "\n",
        "parameters = {'kernel':('linear', 'rbf','poly'), 'C':[0.29,0.25,0.21,0.2,0.1,0.01,0.001,0.0001,0.00001,0.000001,0.0000001]}\n",
        "svc = SVC(gamma=\"scale\")\n",
        "svc_clf=GridSearchCV(svc,parameters,cv=10)\n",
        "svc_clf.fit(x_train,y_train)\n",
        "# print(svc_clf.cv_results_)\n",
        "print(svc_clf.best_estimator_)\n",
        "print(svc_clf.best_score_)\n",
        "\n",
        "svc=SVC(C=1,kernel='rbf')\n",
        "svc.fit(x_train,y_train)\n",
        "# print(svc.support_vectors_)\n",
        "svc_pred=svc.predict(x_test)\n",
        "print(\"Accuracy score on test data\",accuracy_score(svc_pred,y_test)*100) #81.34\n",
        "#sigmoid 71\n",
        "#rbf      82.92\n",
        "#poly   81"
      ],
      "execution_count": 0,
      "outputs": [
        {
          "output_type": "stream",
          "text": [
            "SVC(C=0.29, cache_size=200, class_weight=None, coef0=0.0,\n",
            "    decision_function_shape='ovr', degree=3, gamma='scale', kernel='rbf',\n",
            "    max_iter=-1, probability=False, random_state=None, shrinking=True,\n",
            "    tol=0.001, verbose=False)\n",
            "0.8154093097913323\n",
            "Accuracy score on test data 81.34328358208955\n"
          ],
          "name": "stdout"
        }
      ]
    },
    {
      "cell_type": "markdown",
      "metadata": {
        "id": "WPVqaOl-Qqbp",
        "colab_type": "text"
      },
      "source": [
        "# **Decision Tree**"
      ]
    },
    {
      "cell_type": "code",
      "metadata": {
        "id": "1dPKdPR3Qw92",
        "colab_type": "code",
        "outputId": "4ca482d6-1351-48cb-8613-f0ee19457d7b",
        "colab": {
          "base_uri": "https://localhost:8080/",
          "height": 153
        }
      },
      "source": [
        "DT=DecisionTreeClassifier(random_state=0)\n",
        "parameter_DT={'criterion':['gini','entropy'],'max_depth':[1,2,3,4,5,6,7,8],'max_features':['auto','log2'],'min_samples_split':[5,4,3,2],'min_samples_leaf':[1,2,3,4,5]}\n",
        "DT_grid=GridSearchCV(DT,parameter_DT,cv=15)\n",
        "DT_grid.fit(x_train,y_train)\n",
        "# print(DT_grid.cv_results_)\n",
        "print(DT_grid.best_estimator_)\n",
        "print(DT_grid.best_score_)\n",
        "DT2=DecisionTreeClassifier(class_weight=None, criterion='gini', max_depth=5,\n",
        "            max_features='log2', max_leaf_nodes=None,\n",
        "            min_impurity_decrease=0.0, min_impurity_split=None,\n",
        "            min_samples_leaf=2, min_samples_split=5,\n",
        "            min_weight_fraction_leaf=0.0, presort=False, random_state=0,\n",
        "            splitter='best')\n",
        "DT2.fit(x_train,y_train)\n",
        "DT_pred=DT2.predict(x_test)\n",
        "\n",
        "print(accuracy_score(y_test,DT_pred)*100)#81.71\n",
        "\n"
      ],
      "execution_count": 0,
      "outputs": [
        {
          "output_type": "stream",
          "text": [
            "DecisionTreeClassifier(class_weight=None, criterion='gini', max_depth=5,\n",
            "                       max_features='log2', max_leaf_nodes=None,\n",
            "                       min_impurity_decrease=0.0, min_impurity_split=None,\n",
            "                       min_samples_leaf=2, min_samples_split=5,\n",
            "                       min_weight_fraction_leaf=0.0, presort=False,\n",
            "                       random_state=0, splitter='best')\n",
            "0.8170144462279294\n",
            "81.71641791044776\n"
          ],
          "name": "stdout"
        }
      ]
    },
    {
      "cell_type": "markdown",
      "metadata": {
        "id": "rKkEdNevW_DM",
        "colab_type": "text"
      },
      "source": [
        "# **Bagging Classifier(DecisionTree)**"
      ]
    },
    {
      "cell_type": "code",
      "metadata": {
        "id": "gYg8UJCiXFeU",
        "colab_type": "code",
        "outputId": "1500e8c5-976d-459b-c98b-adfccf98305d",
        "colab": {
          "base_uri": "https://localhost:8080/",
          "height": 34
        }
      },
      "source": [
        "from sklearn.ensemble import BaggingClassifier\n",
        "kb_parameter={'n_estimators':[30,50,70,90,100,130,150],'max_features':[0.1,0.3,0.4,0.5,0.6,0.70,0.80,0.9]}\n",
        "para_dt2={'criterion':['gini','entropy'],'max_depth':[5,10,14,20,24,26,30,35,40,50,70,100],'max_features':['auto','sqrt','log2',0.1,0.3,0.8],'min_samples_leaf':[1,4,7,10,15,20,25,30,50,70]}\n",
        "Dt2=DecisionTreeClassifier(class_weight=None, criterion='gini', max_depth=5,\n",
        "                       max_features=0.8, max_leaf_nodes=None,\n",
        "                       min_impurity_decrease=0.0, min_impurity_split=None,\n",
        "                       min_samples_leaf=10, min_samples_split=2,\n",
        "                       min_weight_fraction_leaf=0.0, presort=False,\n",
        "                       random_state=0, splitter='best')\n",
        "# dt2grid=GridSearchCV(Dt2,para_dt2,cv=10,scoring='accuracy')\n",
        "# dt2grid.fit(x_train,y_train)\n",
        "# print(dt2grid.best_estimator_)\n",
        "# print(dt2grid.best_score_)\n",
        "# kb=BaggingClassifier(Dt2,random_state=2)\n",
        "# kb_grid=GridSearchCV(kb,kb_parameter,cv=10,scoring='accuracy')\n",
        "# kb_grid.fit(x_train,y_train)\n",
        "# print(kb_grid.best_estimator_)\n",
        "# print(kb_grid.best_score_)\n",
        "kb2=BaggingClassifier(base_estimator=DecisionTreeClassifier(class_weight=None,\n",
        "                                                        criterion='gini',\n",
        "                                                        max_depth=5,\n",
        "                                                        max_features=0.8,\n",
        "                                                        max_leaf_nodes=None,\n",
        "                                                        min_impurity_decrease=0.0,\n",
        "                                                        min_impurity_split=None,\n",
        "                                                        min_samples_leaf=10,\n",
        "                                                        min_samples_split=2,\n",
        "                                                        min_weight_fraction_leaf=0.0,\n",
        "                                                        presort=False,\n",
        "                                                        random_state=2,\n",
        "                                                        splitter='best'),\n",
        "                  bootstrap=True, bootstrap_features=False, max_features=0.5,\n",
        "                  max_samples=1.0, n_estimators=150, n_jobs=None,\n",
        "                  oob_score=False, random_state=2, verbose=0, warm_start=False)\n",
        "kb2.fit(x_train,y_train)\n",
        "kb_pred=kb2.predict(x_test)\n",
        "print(accuracy_score(y_test,kb_pred))#83.20"
      ],
      "execution_count": 0,
      "outputs": [
        {
          "output_type": "stream",
          "text": [
            "0.832089552238806\n"
          ],
          "name": "stdout"
        }
      ]
    },
    {
      "cell_type": "markdown",
      "metadata": {
        "id": "UwNkTfa1PPCm",
        "colab_type": "text"
      },
      "source": [
        "# **Random Forest Classifier**"
      ]
    },
    {
      "cell_type": "code",
      "metadata": {
        "id": "iliUjr5hb2EQ",
        "colab_type": "code",
        "outputId": "9b567dd2-498e-4277-fc17-fb05965404cf",
        "colab": {
          "base_uri": "https://localhost:8080/",
          "height": 34
        }
      },
      "source": [
        "from sklearn.ensemble import RandomForestClassifier\n",
        "from sklearn.model_selection import RandomizedSearchCV\n",
        "# ran_cl=RandomForestClassifier(random_state=0,n_jobs=-1)\n",
        "# parameter_rf={'n_estimators':[20,40,60,80,100,140,180,200,220,250,260,280,300],'max_features':['log2','sqrt',0.1,0.3,0.5],'min_samples_leaf':[5,10,7,4,20,50,100,70,120]}\n",
        "# ran_gs=GridSearchCV(ran_cl,parameter_rf,cv=10,scoring='accuracy')\n",
        "# ran_gs.fit(x_train,y_train)\n",
        "# print(ran_gs.best_score_)\n",
        "# print(ran_gs.best_estimator_)\n",
        "ran_cl2=RandomForestClassifier(bootstrap=True, class_weight=None, criterion='gini',\n",
        "                       max_depth=None, max_features=0.5, max_leaf_nodes=None,\n",
        "                       min_impurity_decrease=0.0, min_impurity_split=None,\n",
        "                       min_samples_leaf=4, min_samples_split=10,\n",
        "                       min_weight_fraction_leaf=0.0, n_estimators=80,\n",
        "                       n_jobs=-1, oob_score=False, random_state=0, verbose=0,\n",
        "                       warm_start=False)\n",
        "# # # # print(np.mean(ran_cross))\n",
        "ran_cl2.fit(x_train,y_train)\n",
        "ran_pred=ran_cl2.predict(x_test)\n",
        "print(accuracy_score(y_test,ran_pred))\n",
        "# accu_meter=[]\n",
        "# param=[]\n",
        "# def test_parameter(x,y):\n",
        "#     for i in y:\n",
        "#         rad=RandomForestClassifier(n_estimators=i,random_state=0)\n",
        "#         rad.fit(x_train,y_train)\n",
        "#         pred1=rad.predict(x_test)\n",
        "#         accuracy=accuracy_score(y_test,pred1)\n",
        "#         accu_meter.append(accuracy)\n",
        "#         param.append(i)\n",
        "    \n",
        "#     plt.grid()\n",
        "#     plt.xlabel=str(x)\n",
        "#     plt.ylabel='accuracy'\n",
        "#     plt.plot(param,accu_meter)\n",
        "# test_parameter('n_estimators',[20,40,60,80,100,140,180,200,220,250,260,280,300])\n",
        "# ran_rr=RandomizedSearchCV(ran_cl,parameter_rf,cv=10)\n",
        "# ran_rr.fit(x_train,y_train)\n",
        "# print(ran_rr.best_estimator_)\n",
        "# print(ran_rr.best_score_)"
      ],
      "execution_count": 0,
      "outputs": [
        {
          "output_type": "stream",
          "text": [
            "0.8395522388059702\n"
          ],
          "name": "stdout"
        }
      ]
    },
    {
      "cell_type": "markdown",
      "metadata": {
        "id": "jcM4_krSOBaZ",
        "colab_type": "text"
      },
      "source": [
        "# **BaggingClassifier(KNN)**"
      ]
    },
    {
      "cell_type": "code",
      "metadata": {
        "id": "3QzeW-nYjmEO",
        "colab_type": "code",
        "outputId": "1ade4d20-4992-442d-c87d-26144db27e51",
        "colab": {
          "base_uri": "https://localhost:8080/",
          "height": 34
        }
      },
      "source": [
        "from sklearn.ensemble import BaggingClassifier\n",
        "kb_parameter={'n_estimators':[30,50,70,90,100,130,150],'max_features':[0.1,0.3,0.4,0.5,0.6,0.70,0.80,0.9]}\n",
        "para_knn={'n_neighbors':list(range(8,100)),'weights':['uniform','distance'],'algorithm':['auto','kd_tree','ball_tree']}\n",
        "knn=KNeighborsClassifier(algorithm='auto', leaf_size=30, metric='minkowski',\n",
        "                     metric_params=None, n_jobs=None, n_neighbors=12, p=2,\n",
        "                     weights='distance')\n",
        "# kgrid=GridSearchCV(knn,para_knn,cv=10,scoring='accuracy')\n",
        "# kgrid.fit(x_train,y_train)\n",
        "# print(kgrid.best_estimator_)\n",
        "# print(kgrid.best_score_)\n",
        "# kb=BaggingClassifier(knn,random_state=2)\n",
        "# kb_grid=GridSearchCV(kb,kb_parameter,cv=10,scoring='accuracy')\n",
        "# kb_grid.fit(x_train,y_train)\n",
        "# print(kb_grid.best_estimator_)\n",
        "# print(kb_grid.best_score_)\n",
        "kb2=BaggingClassifier(base_estimator=KNeighborsClassifier(algorithm='auto',\n",
        "                                                      leaf_size=30,\n",
        "                                                      metric='minkowski',\n",
        "                                                      metric_params=None,\n",
        "                                                      n_jobs=-1,\n",
        "                                                      n_neighbors=12, p=2,\n",
        "                                                      weights='distance'),\n",
        "                  bootstrap=True, bootstrap_features=False, max_features=0.5,\n",
        "                  max_samples=1.0, n_estimators=80, n_jobs=-1,\n",
        "                  oob_score=False, random_state=2, verbose=0, warm_start=False)\n",
        "kb2.fit(x_train,y_train)\n",
        "kb_pred=kb2.predict(x_test)\n",
        "print(accuracy_score(y_test,kb_pred))#84.32"
      ],
      "execution_count": 0,
      "outputs": [
        {
          "output_type": "stream",
          "text": [
            "0.8432835820895522\n"
          ],
          "name": "stdout"
        }
      ]
    },
    {
      "cell_type": "markdown",
      "metadata": {
        "id": "HcRv1_GWdn3i",
        "colab_type": "text"
      },
      "source": [
        "# **Gradient Boosting Classifier**"
      ]
    },
    {
      "cell_type": "code",
      "metadata": {
        "id": "LBxDsQohfNp4",
        "colab_type": "code",
        "colab": {}
      },
      "source": [
        "from sklearn.ensemble import GradientBoostingClassifier\n",
        "GBC_para={'n_estimators':[80,100,120,150,180,200,220],'learning_rate':[0.1,0.001,0.01,0.2],'subsample':[0.8,0.9,0.5],\n",
        "          'max_depth':[5,8,10,13,16,19,22],'max_features':[0.8,0.9,'sqrt','auto','log2']}\n",
        "GBC=GradientBoostingClassifier(random_state=0,tol=0.01,n_iter_no_change=100)\n",
        "GBC_grid=GridSearchCV(GBC,GBC_para,cv=10,scoring='accuracy')\n",
        "GBC_grid.fit(x_train,y_train)\n",
        "print(GBC_grid.best_estimator_)\n",
        "print(GBC_grid.best_score_)\n",
        "# GBC_pred=GBC.predict(x_test)\n",
        "# print(GBC.score(x_test,y_test))"
      ],
      "execution_count": 0,
      "outputs": []
    },
    {
      "cell_type": "markdown",
      "metadata": {
        "id": "fTnmybOpOlyl",
        "colab_type": "text"
      },
      "source": [
        "# **AdaBoost**"
      ]
    },
    {
      "cell_type": "code",
      "metadata": {
        "id": "dzQ-im4614QL",
        "colab_type": "code",
        "outputId": "18544f16-7f93-43a2-905f-d72fbe831461",
        "colab": {
          "base_uri": "https://localhost:8080/",
          "height": 340
        }
      },
      "source": [
        "from sklearn.ensemble import AdaBoostClassifier\n",
        "ada_cls=AdaBoostClassifier(random_state=0,base_estimator=DT2)\n",
        "parameter_ada={ 'n_estimators':[60,70,80,90,100,130,150,200,220,240,260,280],'learning_rate':[0.00001,0.0001,0.1,0.001,0.5,1.0,2.0,1.5]}\n",
        "ada_gs=GridSearchCV(ada_cls,parameter_ada,cv=10,scoring='accuracy')\n",
        "ada_gs.fit(x_train,y_train)\n",
        "print(ada_gs.best_estimator_)\n",
        "print(ada_gs.best_score_)\n",
        "\n",
        "ada_cls2=AdaBoostClassifier(algorithm='SAMME.R',\n",
        "                   base_estimator=DecisionTreeClassifier(class_weight=None,\n",
        "                                                         criterion='gini',\n",
        "                                                         max_depth=5,\n",
        "                                                         max_features='log2',\n",
        "                                                         max_leaf_nodes=None,\n",
        "                                                         min_impurity_decrease=0.0,\n",
        "                                                         min_impurity_split=None,\n",
        "                                                         min_samples_leaf=2,\n",
        "                                                         min_samples_split=5,\n",
        "                                                         min_weight_fraction_leaf=0.0,\n",
        "                                                         presort=False,\n",
        "                                                         random_state=0,\n",
        "                                                         splitter='best'),\n",
        "                   learning_rate=0.001, n_estimators=220, random_state=0)\n",
        "ada_cls2.fit(x_train,y_train)\n",
        "ada_parameter={'n_estimators':[30,50,70,90,100,130,150],'max_features':[0.1,0.3,0.4,0.5,0.6,0.70,0.80,0.9]}\n",
        "\n",
        "# ada_bag=BaggingClassifier(ada_cls2,random_state=2)\n",
        "# kb_grid=GridSearchCV(ada_bag,ada_parameter,cv=10,scoring='accuracy')\n",
        "# kb_grid.fit(x_train,y_train)\n",
        "# print(kb_grid.best_estimator_)\n",
        "# print(kb_grid.best_score_)             \n",
        "print(ada_cls2.feature_importances_)\n",
        "# print(ada_cls2.estimators_)\n",
        "# print(ada_cls2.estimator_errors_)\n",
        "print(accuracy_score(y_test,ada_cls2.predict(x_test))) #84.70"
      ],
      "execution_count": 0,
      "outputs": [
        {
          "output_type": "stream",
          "text": [
            "AdaBoostClassifier(algorithm='SAMME.R',\n",
            "                   base_estimator=DecisionTreeClassifier(class_weight=None,\n",
            "                                                         criterion='gini',\n",
            "                                                         max_depth=5,\n",
            "                                                         max_features='log2',\n",
            "                                                         max_leaf_nodes=None,\n",
            "                                                         min_impurity_decrease=0.0,\n",
            "                                                         min_impurity_split=None,\n",
            "                                                         min_samples_leaf=2,\n",
            "                                                         min_samples_split=5,\n",
            "                                                         min_weight_fraction_leaf=0.0,\n",
            "                                                         presort=False,\n",
            "                                                         random_state=0,\n",
            "                                                         splitter='best'),\n",
            "                   learning_rate=0.0001, n_estimators=220, random_state=0)\n",
            "0.8234349919743178\n",
            "[0.06887682 0.1066529  0.53020999 0.08371853 0.03510072 0.01091256\n",
            " 0.13772659 0.02680189]\n",
            "0.8470149253731343\n"
          ],
          "name": "stdout"
        }
      ]
    },
    {
      "cell_type": "markdown",
      "metadata": {
        "id": "PuX9_SPPwzVh",
        "colab_type": "text"
      },
      "source": [
        "# **XGBoost**"
      ]
    },
    {
      "cell_type": "code",
      "metadata": {
        "id": "a3q6fDy52OH7",
        "colab_type": "code",
        "outputId": "ba81626a-7550-466e-a9ba-40a1b1537498",
        "colab": {
          "base_uri": "https://localhost:8080/",
          "height": 448
        }
      },
      "source": [
        "import xgboost as xgb\n",
        "from xgboost import plot_importance\n",
        "\n",
        "xgb_parameter={'eta':[0.1,0.3,0.01,0.2,0.4],'max_depth':[6,8,10,15,20,40,30,50,70,100,140,150,190,210]}\n",
        "xgb_cls=xgb.XGBClassifier(eval_metric='rmse')\n",
        "xgb_grid=GridSearchCV(xgb_cls,xgb_parameter,cv=10,scoring='accuracy')\n",
        "xgb_grid.fit(x_train,y_train)\n",
        "print(xgb_grid.best_estimator_)\n",
        "print(xgb_grid.best_score_)\n",
        "\n",
        "xgb_cls.fit(x_train,y_train)\n",
        "print(accuracy_score(y_test,xgb_cls.predict(x_test)))\n",
        "plot_importance(xgb_cls)\n",
        "plt.show()\n",
        "#83.20\n",
        "\n",
        "\n",
        "# x_real=data2[['SibSp','Fare','Age']]\n",
        "# x_real.Age.fillna(np.mean(data2.Age),inplace=True)\n",
        "# y_real=data.Survived\n",
        "# y_real=np.array(y).reshape(len(y),1) \n",
        "# xx,xt,yy,yt=train_test_split(x_real,y_real,test_size=0.3,random_state=0)\n",
        "# xgb_parameter={'eta':[0.1,0.3,0.01,0.2,0.4],'max_depth':[6,8,10,15,20,40,30,50,70,100,140,150,190,210],'n_estimators':[30,40,60,100,130,160,170,200,240,220]}\n",
        "# xgb_cls=xgb.XGBClassifier(eval_metric='rmse')\n",
        "# xgb_grid=GridSearchCV(xgb_cls,xgb_parameter,cv=10,scoring='accuracy')\n",
        "# xgb_grid.fit(xx,yy)\n",
        "# print(xgb_grid.best_estimator_)\n",
        "# print(xgb_grid.best_score_)\n",
        "# xgb_cls2=xgb.XGBClassifier(base_score=0.5, booster='gbtree', colsample_bylevel=1,\n",
        "#               colsample_bynode=1, colsample_bytree=1, eta=0.1,\n",
        "#               eval_metric='rmse', gamma=0, learning_rate=0.1, max_delta_step=0,\n",
        "#               max_depth=6, min_child_weight=1, missing=None, n_estimators=100,\n",
        "#               n_jobs=1, nthread=None, objective='binary:logistic',\n",
        "#               random_state=0, reg_alpha=0, reg_lambda=1, scale_pos_weight=1,\n",
        "#               seed=None, silent=None, subsample=1, verbosity=1)\n",
        "# xgb_cls2.fit(xx,yy)\n",
        "# print('Final Accuracy',accuracy_score(yt,xgb_cls2.predict(xt)))"
      ],
      "execution_count": 0,
      "outputs": [
        {
          "output_type": "stream",
          "text": [
            "XGBClassifier(base_score=0.5, booster='gbtree', colsample_bylevel=1,\n",
            "              colsample_bynode=1, colsample_bytree=1, eta=0.1,\n",
            "              eval_metric='rmse', gamma=0, learning_rate=0.1, max_delta_step=0,\n",
            "              max_depth=8, min_child_weight=1, missing=None, n_estimators=100,\n",
            "              n_jobs=1, nthread=None, objective='binary:logistic',\n",
            "              random_state=0, reg_alpha=0, reg_lambda=1, scale_pos_weight=1,\n",
            "              seed=None, silent=None, subsample=1, verbosity=1)\n",
            "0.7897271268057785\n",
            "0.832089552238806\n"
          ],
          "name": "stdout"
        },
        {
          "output_type": "display_data",
          "data": {
            "image/png": "[encoded data removed]",
            "text/plain": [
              "<Figure size 432x288 with 1 Axes>"
            ]
          },
          "metadata": {
            "tags": []
          }
        }
      ]
    },
    {
      "cell_type": "markdown",
      "metadata": {
        "id": "wB8AK4TAn-7k",
        "colab_type": "text"
      },
      "source": [
        "# **Accuracy card**\n",
        "\n",
        "\n",
        "\n",
        "\n",
        "*   KNN                                   81.71\n",
        "*   Naive Bayes                     78.73\n",
        "*   Logistic Regression        79.85\n",
        "*   SVM                                  81.34          \n",
        "*  Decision Trees        81.71\n",
        "*   Random Forest 83.95\n",
        "*   Bagging Classifier(Decision tree) 83.20\n",
        "*   Bagging Classifier(KNN) 84.32\n",
        "*   AdaBoost  84.70\n",
        "\n",
        "\n",
        "\n",
        "\n",
        "\n"
      ]
    }
  ]
}